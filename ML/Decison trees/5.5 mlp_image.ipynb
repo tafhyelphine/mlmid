{
 "cells": [
  {
   "cell_type": "code",
   "execution_count": 1,
   "metadata": {},
   "outputs": [
    {
     "name": "stdout",
     "output_type": "stream",
     "text": [
      "Iteration 1, loss = 0.38502588\n",
      "Iteration 2, loss = 0.14950580\n",
      "Iteration 3, loss = 0.10273425\n",
      "Iteration 4, loss = 0.07876612\n",
      "Iteration 5, loss = 0.06287742\n",
      "Iteration 6, loss = 0.05150452\n",
      "Iteration 7, loss = 0.04168628\n",
      "Iteration 8, loss = 0.03421156\n",
      "Iteration 9, loss = 0.02852425\n",
      "Iteration 10, loss = 0.02430944\n",
      "Iteration 11, loss = 0.02026940\n",
      "Iteration 12, loss = 0.01670841\n",
      "Iteration 13, loss = 0.01354651\n",
      "Iteration 14, loss = 0.01485205\n",
      "Iteration 15, loss = 0.01153144\n",
      "Iteration 16, loss = 0.01095233\n",
      "Iteration 17, loss = 0.00810442\n",
      "Iteration 18, loss = 0.00709180\n",
      "Iteration 19, loss = 0.00439719\n",
      "Iteration 20, loss = 0.00553457\n",
      "Test Accuracy: 0.9769\n"
     ]
    },
    {
     "name": "stderr",
     "output_type": "stream",
     "text": [
      "C:\\Users\\USER\\AppData\\Local\\Packages\\PythonSoftwareFoundation.Python.3.11_qbz5n2kfra8p0\\LocalCache\\local-packages\\Python311\\site-packages\\sklearn\\neural_network\\_multilayer_perceptron.py:691: ConvergenceWarning: Stochastic Optimizer: Maximum iterations (20) reached and the optimization hasn't converged yet.\n",
      "  warnings.warn(\n"
     ]
    }
   ],
   "source": [
    "from sklearn.neural_network import MLPClassifier\n",
    "from tensorflow.keras.datasets import mnist\n",
    "import numpy as np\n",
    "\n",
    "# Load the MNIST dataset (28x28 grayscale images)\n",
    "(X_train, y_train), (X_test, y_test) = mnist.load_data()\n",
    "\n",
    "# Normalize pixel values (0-255 → 0-1)\n",
    "X_train, X_test = X_train / 255.0, X_test / 255.0  \n",
    "\n",
    "# Flatten the 28x28 images into 1D vectors (28*28 = 784)\n",
    "X_train = X_train.reshape(X_train.shape[0], -1)  # (60000, 784)\n",
    "X_test = X_test.reshape(X_test.shape[0], -1)     # (10000, 784)\n",
    "\n",
    "# Define the MLP Model\n",
    "model = MLPClassifier(\n",
    "    hidden_layer_sizes=(128, 64),  # Larger hidden layers for image data\n",
    "    activation='relu',  # ReLU helps with non-linearity\n",
    "    solver='adam',  # Adam optimizer for better convergence\n",
    "    learning_rate_init=0.001,  # Lower learning rate for stability\n",
    "    max_iter=20,  # More iterations for better learning\n",
    "    verbose=True,\n",
    "    random_state=42\n",
    ")\n",
    "\n",
    "# Train the MLP model\n",
    "model.fit(X_train, y_train)\n",
    "\n",
    "# Predict\n",
    "y_pred = model.predict(X_test)\n",
    "\n",
    "# Evaluate accuracy\n",
    "accuracy = (y_pred == y_test).mean()\n",
    "print(f\"Test Accuracy: {accuracy:.4f}\")\n",
    "\n",
    "\n"
   ]
  },
  {
   "cell_type": "code",
   "execution_count": 3,
   "metadata": {},
   "outputs": [
    {
     "data": {
      "image/png": "[encoded data removed]",
      "text/plain": [
       "<Figure size 1000x500 with 5 Axes>"
      ]
     },
     "metadata": {},
     "output_type": "display_data"
    }
   ],
   "source": [
    "import matplotlib.pyplot as plt\n",
    "\n",
    "misclassified_idx = np.where(y_pred == y_test)[0]\n",
    "plt.figure(figsize=(10, 5))\n",
    "for i, idx in enumerate(misclassified_idx[:5]):  # Show first 5 misclassified images\n",
    "    plt.subplot(1, 5, i+1)\n",
    "    plt.imshow(X_test[idx].reshape(28, 28), cmap='gray')\n",
    "    plt.title(f\"True: {y_test[idx]}\\nPred: {y_pred[idx]}\")\n",
    "    plt.axis(\"off\")\n",
    "plt.show()"
   ]
  }
 ],
 "metadata": {
  "kernelspec": {
   "display_name": "Python 3",
   "language": "python",
   "name": "python3"
  },
  "language_info": {
   "codemirror_mode": {
    "name": "ipython",
    "version": 3
   },
   "file_extension": ".py",
   "mimetype": "text/x-python",
   "name": "python",
   "nbconvert_exporter": "python",
   "pygments_lexer": "ipython3",
   "version": "3.11.9"
  }
 },
 "nbformat": 4,
 "nbformat_minor": 2
}
